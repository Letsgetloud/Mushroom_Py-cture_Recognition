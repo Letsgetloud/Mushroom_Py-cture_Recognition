{
  "nbformat": 4,
  "nbformat_minor": 0,
  "metadata": {
    "colab": {
      "name": "demo_streamlitColab.ipynb",
      "provenance": [],
      "collapsed_sections": [],
      "include_colab_link": true
    },
    "kernelspec": {
      "display_name": "Python 3",
      "name": "python3"
    }
  },
  "cells": [
    {
      "cell_type": "markdown",
      "metadata": {
        "id": "view-in-github",
        "colab_type": "text"
      },
      "source": [
        "<a href=\"https://colab.research.google.com/github/Letsgetloud/Mushroom_Py-cture_Recognition/blob/main/demo_streamlitColab.ipynb\" target=\"_parent\"><img src=\"https://colab.research.google.com/assets/colab-badge.svg\" alt=\"Open In Colab\"/></a>"
      ]
    },
    {
      "cell_type": "markdown",
      "metadata": {
        "id": "vWmc_s2ezvU0"
      },
      "source": [
        "#Demo Streamlit"
      ]
    },
    {
      "cell_type": "markdown",
      "metadata": {
        "id": "xZMtoqVt8hzh"
      },
      "source": [
        "La démo Streamlit est accessible en ligne, via le lien indiqué dans la description du repo Github. Néanmoins, pour ceux qui le souhaitent ou dans le cas où la démo serait inaccessible, il est possible de la lancer via ce notebook depuis Google Colab.\n",
        "\n",
        "Le principe est d'initier un tunnel via le service Ngrok afin de rendre publique l'adresse du serveur instancié par streamlit. Pour éviter d'atteindre les quotas de soumission auprès de Ngrok, il faut au préalable s'inscrire sur le site https://ngrok.com/ afin d'y récupérer un token. Ce dernier sera nécessaire plus loin dans ce notebook \n"
      ]
    },
    {
      "cell_type": "markdown",
      "metadata": {
        "id": "Doh1Nrjpz9ua"
      },
      "source": [
        "## **1. Installations**"
      ]
    },
    {
      "cell_type": "markdown",
      "metadata": {
        "id": "1aViQX800ht7"
      },
      "source": [
        "### 1.1. Installation de Streamlit"
      ]
    },
    {
      "cell_type": "markdown",
      "metadata": {
        "id": "RBr5L5gnvCLY"
      },
      "source": [
        "Il faut d'abord installer Streamlit en exécutant le code ci-dessous. Il est possible qu'une erreur de version apparaisse, sans conséquence pour la bonne exécution de l'application.<br>\n",
        "Apres avoir exécuté la cellule ci-dessous il faut surtout penser à redémarrer l'environnement d'exécution via le menu !\n"
      ]
    },
    {
      "cell_type": "code",
      "metadata": {
        "id": "4pX82dyHr8XL"
      },
      "source": [
        "!pip install -q streamlit"
      ],
      "execution_count": 3,
      "outputs": []
    },
    {
      "cell_type": "markdown",
      "metadata": {
        "id": "uzvl_5Cv8HeX"
      },
      "source": [
        "## **<font color='red'>Ici on pense a redémarrer l'environnement.</font>**"
      ]
    },
    {
      "cell_type": "markdown",
      "metadata": {
        "id": "EFoluk860syY"
      },
      "source": [
        "### 1.2. Installation de NGRok"
      ]
    },
    {
      "cell_type": "markdown",
      "metadata": {
        "id": "G7RXzfxe0xRe"
      },
      "source": [
        "NGrok va nous permettre de créer un tunnel nous permettant de visualiser l'application dans un navigateur internet. Il faut exécuter les cellules suivantes pour télédécharger les sources du noyau sous Colab."
      ]
    },
    {
      "cell_type": "code",
      "metadata": {
        "id": "0R8CWKpKD3HX"
      },
      "source": [
        "!pip install pyngrok==4.1.1"
      ],
      "execution_count": null,
      "outputs": []
    },
    {
      "cell_type": "code",
      "metadata": {
        "id": "VSPUMEHYwqng"
      },
      "source": [
        "!wget https://bin.equinox.io/c/4VmDzA7iaHb/ngrok-stable-linux-amd64.zip"
      ],
      "execution_count": null,
      "outputs": []
    },
    {
      "cell_type": "code",
      "metadata": {
        "id": "6679q_6fwsJH"
      },
      "source": [
        "!unzip ngrok-stable-linux-amd64.zip"
      ],
      "execution_count": null,
      "outputs": []
    },
    {
      "cell_type": "markdown",
      "metadata": {
        "id": "BZr6fBuDAPb-"
      },
      "source": [
        "### 1.3. Chargement des packages et de l'application streamlit"
      ]
    },
    {
      "cell_type": "markdown",
      "metadata": {
        "id": "86JqdYaZ94Vu"
      },
      "source": [
        "L'application Streamlit est déjà déployée dans le repository Github associé au projet. Les instructions ci-dessous vont télédécharger les sources de l'application d'une part, et des packages nécessaires d'autre part."
      ]
    },
    {
      "cell_type": "code",
      "metadata": {
        "id": "PI2yZH-gASpp"
      },
      "source": [
        "# Création de répertoires pour stocker le Git, les librairies et checkpoints\n",
        "!mkdir MPyRTemp -p\n",
        "!mkdir streamlit -p\n",
        "\n",
        "# Copie des sources des librairies projet depuis le Github\n",
        "!git clone https://github.com/Letsgetloud/Mushroom_Py-cture_Recognition/ ./MPyRTemp --dissociate > /dev/null\n",
        "\n",
        "# Répartition des différentes ressources dans les répertoires\n",
        "!cp -R ./MPyRTemp/streamlit/* ./streamlit\n",
        "   \n",
        "\n",
        "# Suppression de la copie du repository source\n",
        "!rm MPyRTemp -r"
      ],
      "execution_count": null,
      "outputs": []
    },
    {
      "cell_type": "markdown",
      "metadata": {
        "id": "14fstGETAZT9"
      },
      "source": [
        "### 1.4. Installation des dépendances"
      ]
    },
    {
      "cell_type": "markdown",
      "metadata": {
        "id": "t_wTJJC5-T1J"
      },
      "source": [
        "Quelques librairies sont nécessaires au bon fonctionnement de l'application. Nous les installons toutes depuis le fichier de configuration rattaché a l’application.  Il est possible qu'une erreur de version apparaisse, sans conséquence pour la bonne exécution de l'application."
      ]
    },
    {
      "cell_type": "code",
      "metadata": {
        "id": "_V0R4yqvmiYS"
      },
      "source": [
        "\n",
        "!pip install -r /content/streamlit/requirements.txt  > /dev/null"
      ],
      "execution_count": null,
      "outputs": []
    },
    {
      "cell_type": "markdown",
      "metadata": {
        "id": "encqGJ4u0FYG"
      },
      "source": [
        "## **2. Lancement de l'application**"
      ]
    },
    {
      "cell_type": "markdown",
      "metadata": {
        "id": "JExKU0Gvn72U"
      },
      "source": [
        "Les installations étant terminées, l'application peut être lancée. Nous allons pour cela initier un tunnel ngrok.\n",
        "\n",
        "Au préalable, il convient de générer un fichier de configuration comportant un token de connexion. Rendez-vous sur le site ngrok.com, inscrivez-vous si ce n'est déjà fait et récupérez votre token (présent sur la page de votre profil). Remplacer ensuite la ligne ci-dessous par votre propre token avant de l'exécuter.\n"
      ]
    },
    {
      "cell_type": "code",
      "metadata": {
        "id": "vnkvhNBp9jf1"
      },
      "source": [
        "!ngrok authtoken 1xuLUeYQUBq58sA61Zb9ekFPVSU_GcaPTxM1MAWiDczNvtCy"
      ],
      "execution_count": null,
      "outputs": []
    },
    {
      "cell_type": "markdown",
      "metadata": {
        "id": "MNHYv8wj1Zzr"
      },
      "source": [
        "Lancez les 3 cellules ci-dessous, un nouveau tunnel sera alors généré. Pour visualiser le rendu de l'application il faut se rendre sur le lien indiqué par la seconde cellule (de type https://xxxxxxx.ngrok.io)"
      ]
    },
    {
      "cell_type": "code",
      "metadata": {
        "id": "qGCM2OjvxNit"
      },
      "source": [
        "get_ipython().system_raw('./ngrok http 8501 &')"
      ],
      "execution_count": 20,
      "outputs": []
    },
    {
      "cell_type": "code",
      "metadata": {
        "id": "bxwv00hdxedU"
      },
      "source": [
        "!curl -s http://localhost:4040/api/tunnels | python3 -c \\\n",
        "    'import sys, json; print(\"URL pour visualiser l application : \" +json.load(sys.stdin)[\"tunnels\"][0][\"public_url\"])'"
      ],
      "execution_count": null,
      "outputs": []
    },
    {
      "cell_type": "code",
      "metadata": {
        "id": "T1bWdX1Y_n9j"
      },
      "source": [
        "!streamlit run /content/streamlit/app.py"
      ],
      "execution_count": null,
      "outputs": []
    }
  ]
}