{
  "nbformat": 4,
  "nbformat_minor": 0,
  "metadata": {
    "colab": {
      "name": "demo_streamlitColab.ipynb",
      "provenance": [],
      "collapsed_sections": [],
      "include_colab_link": true
    },
    "kernelspec": {
      "display_name": "Python 3",
      "name": "python3"
    }
  },
  "cells": [
    {
      "cell_type": "markdown",
      "metadata": {
        "id": "view-in-github",
        "colab_type": "text"
      },
      "source": [
        "<a href=\"https://colab.research.google.com/github/Letsgetloud/Mushroom_Py-cture_Recognition/blob/main/demo_streamlitColab.ipynb\" target=\"_parent\"><img src=\"https://colab.research.google.com/assets/colab-badge.svg\" alt=\"Open In Colab\"/></a>"
      ]
    },
    {
      "cell_type": "markdown",
      "metadata": {
        "id": "vWmc_s2ezvU0"
      },
      "source": [
        "#Demo Streamlit"
      ]
    },
    {
      "cell_type": "markdown",
      "metadata": {
        "id": "xZMtoqVt8hzh"
      },
      "source": [
        "La démo Streamlit est accessible en ligne, via le lien indiqué dans la description du repo Github. Néanmoins, pour ceux qui le souhaitent ou dans le cas où la démo serait inaccessible, il est possible de la lancer via ce notebook depuis Google Colab.\n",
        "\n",
        "Le principe est d'initier un tunnel via le service Ngrok afin de rendre publique l'adresse du serveur instancié par streamlit. Pour éviter d'atteindre les quotas de soumission auprès de Ngrok, il faut au préalable s'inscrire sur le site https://ngrok.com/ afin d'y récupérer un token. Ce dernier sera nécessaire plus loin dans ce notebook \n"
      ]
    },
    {
      "cell_type": "markdown",
      "metadata": {
        "id": "Doh1Nrjpz9ua"
      },
      "source": [
        "## **1. Installations**"
      ]
    },
    {
      "cell_type": "markdown",
      "metadata": {
        "id": "1aViQX800ht7"
      },
      "source": [
        "### 1.1. Installation de Streamlit"
      ]
    },
    {
      "cell_type": "markdown",
      "metadata": {
        "id": "RBr5L5gnvCLY"
      },
      "source": [
        "Il faut d'abord installer Streamlit en exécutant le code ci-dessous. Il est possible qu'une erreur de version apparaisse, sans conséquence pour la bonne exécution de l'application.<br>\n",
        "Apres avoir exécuté la cellule ci-dessous il faut surtout penser à redémarrer l'environnement d'exécution via le menu !\n"
      ]
    },
    {
      "cell_type": "code",
      "metadata": {
        "id": "4pX82dyHr8XL",
        "colab": {
          "base_uri": "https://localhost:8080/"
        },
        "outputId": "ceead45e-55f4-4251-8908-782a8cf28425"
      },
      "source": [
        "!pip install -q streamlit"
      ],
      "execution_count": 1,
      "outputs": [
        {
          "output_type": "stream",
          "name": "stdout",
          "text": [
            "\u001b[K     |████████████████████████████████| 8.0 MB 12.8 MB/s \n",
            "\u001b[K     |████████████████████████████████| 111 kB 64.5 MB/s \n",
            "\u001b[K     |████████████████████████████████| 75 kB 3.8 MB/s \n",
            "\u001b[K     |████████████████████████████████| 180 kB 61.2 MB/s \n",
            "\u001b[K     |████████████████████████████████| 4.3 MB 54.1 MB/s \n",
            "\u001b[K     |████████████████████████████████| 63 kB 1.7 MB/s \n",
            "\u001b[K     |████████████████████████████████| 124 kB 73.6 MB/s \n",
            "\u001b[K     |████████████████████████████████| 787 kB 45.1 MB/s \n",
            "\u001b[K     |████████████████████████████████| 370 kB 73.4 MB/s \n",
            "\u001b[?25h  Building wheel for blinker (setup.py) ... \u001b[?25l\u001b[?25hdone\n",
            "\u001b[31mERROR: pip's dependency resolver does not currently take into account all the packages that are installed. This behaviour is the source of the following dependency conflicts.\n",
            "jupyter-console 5.2.0 requires prompt-toolkit<2.0.0,>=1.0.0, but you have prompt-toolkit 3.0.20 which is incompatible.\n",
            "google-colab 1.0.0 requires ipykernel~=4.10, but you have ipykernel 6.4.1 which is incompatible.\n",
            "google-colab 1.0.0 requires ipython~=5.5.0, but you have ipython 7.27.0 which is incompatible.\u001b[0m\n"
          ]
        }
      ]
    },
    {
      "cell_type": "markdown",
      "metadata": {
        "id": "uzvl_5Cv8HeX"
      },
      "source": [
        "## **<font color='red'>Ici on pense a redémarrer l'environnement.</font>**"
      ]
    },
    {
      "cell_type": "markdown",
      "metadata": {
        "id": "EFoluk860syY"
      },
      "source": [
        "### 1.2. Installation de NGRok"
      ]
    },
    {
      "cell_type": "markdown",
      "metadata": {
        "id": "G7RXzfxe0xRe"
      },
      "source": [
        "NGrok va nous permettre de créer un tunnel nous permettant de visualiser l'application dans un navigateur internet. Il faut exécuter les cellules suivantes pour télédécharger les sources du noyau sous Colab."
      ]
    },
    {
      "cell_type": "code",
      "metadata": {
        "colab": {
          "base_uri": "https://localhost:8080/"
        },
        "id": "0R8CWKpKD3HX",
        "outputId": "0a19c209-0789-418f-c072-2b6a45f4317c"
      },
      "source": [
        "!pip install pyngrok==4.1.1"
      ],
      "execution_count": 2,
      "outputs": [
        {
          "output_type": "stream",
          "name": "stdout",
          "text": [
            "Collecting pyngrok==4.1.1\n",
            "  Downloading pyngrok-4.1.1.tar.gz (18 kB)\n",
            "Requirement already satisfied: future in /usr/local/lib/python3.7/dist-packages (from pyngrok==4.1.1) (0.16.0)\n",
            "Requirement already satisfied: PyYAML in /usr/local/lib/python3.7/dist-packages (from pyngrok==4.1.1) (3.13)\n",
            "Building wheels for collected packages: pyngrok\n",
            "  Building wheel for pyngrok (setup.py) ... \u001b[?25l\u001b[?25hdone\n",
            "  Created wheel for pyngrok: filename=pyngrok-4.1.1-py3-none-any.whl size=15984 sha256=ad4617374dab0897b1242fe46a9d46124e663e2f8e858624db5fdece4c0cf773\n",
            "  Stored in directory: /root/.cache/pip/wheels/b1/d9/12/045a042fee3127dc40ba6f5df2798aa2df38c414bf533ca765\n",
            "Successfully built pyngrok\n",
            "Installing collected packages: pyngrok\n",
            "Successfully installed pyngrok-4.1.1\n"
          ]
        }
      ]
    },
    {
      "cell_type": "code",
      "metadata": {
        "colab": {
          "base_uri": "https://localhost:8080/"
        },
        "id": "VSPUMEHYwqng",
        "outputId": "42ac0835-b5cb-4d0c-aa98-ebb34db9b8c7"
      },
      "source": [
        "!wget https://bin.equinox.io/c/4VmDzA7iaHb/ngrok-stable-linux-amd64.zip"
      ],
      "execution_count": 3,
      "outputs": [
        {
          "output_type": "stream",
          "name": "stdout",
          "text": [
            "--2021-09-19 16:00:42--  https://bin.equinox.io/c/4VmDzA7iaHb/ngrok-stable-linux-amd64.zip\n",
            "Resolving bin.equinox.io (bin.equinox.io)... 52.202.168.65, 54.161.241.46, 18.205.222.128, ...\n",
            "Connecting to bin.equinox.io (bin.equinox.io)|52.202.168.65|:443... connected.\n",
            "HTTP request sent, awaiting response... 200 OK\n",
            "Length: 13832437 (13M) [application/octet-stream]\n",
            "Saving to: ‘ngrok-stable-linux-amd64.zip’\n",
            "\n",
            "ngrok-stable-linux- 100%[===================>]  13.19M  11.8MB/s    in 1.1s    \n",
            "\n",
            "2021-09-19 16:00:43 (11.8 MB/s) - ‘ngrok-stable-linux-amd64.zip’ saved [13832437/13832437]\n",
            "\n"
          ]
        }
      ]
    },
    {
      "cell_type": "code",
      "metadata": {
        "colab": {
          "base_uri": "https://localhost:8080/"
        },
        "id": "6679q_6fwsJH",
        "outputId": "8acf3817-f422-4c3a-c538-6770dd300c94"
      },
      "source": [
        "!unzip ngrok-stable-linux-amd64.zip"
      ],
      "execution_count": 4,
      "outputs": [
        {
          "output_type": "stream",
          "name": "stdout",
          "text": [
            "Archive:  ngrok-stable-linux-amd64.zip\n",
            "  inflating: ngrok                   \n"
          ]
        }
      ]
    },
    {
      "cell_type": "markdown",
      "metadata": {
        "id": "BZr6fBuDAPb-"
      },
      "source": [
        "### 1.3. Chargement des packages et de l'application streamlit"
      ]
    },
    {
      "cell_type": "markdown",
      "metadata": {
        "id": "86JqdYaZ94Vu"
      },
      "source": [
        "L'application Streamlit est déjà déployée dans le repository Github associé au projet. Les instructions ci-dessous vont télédécharger les sources de l'application d'une part, et des packages nécessaires d'autre part."
      ]
    },
    {
      "cell_type": "code",
      "metadata": {
        "colab": {
          "base_uri": "https://localhost:8080/"
        },
        "id": "PI2yZH-gASpp",
        "outputId": "16fc0a92-c2cb-4036-d38c-b8eeffafe5ba"
      },
      "source": [
        "# Création de répertoires pour stocker le Git, les librairies et checkpoints\n",
        "!mkdir MPyRTemp -p\n",
        "!mkdir streamlit -p\n",
        "\n",
        "# Copie des sources des librairies projet depuis le Github\n",
        "!git clone https://github.com/DCEN-tech/Mushroom_Py-cture_Recognition/ ./MPyRTemp --dissociate > /dev/null\n",
        "\n",
        "# Répartition des différentes ressources dans les répertoires\n",
        "!cp -R ./MPyRTemp/demo/src/* ./streamlit\n",
        "   \n",
        "\n",
        "# Suppression de la copie du repository source\n",
        "!rm MPyRTemp -r"
      ],
      "execution_count": 5,
      "outputs": [
        {
          "output_type": "stream",
          "name": "stdout",
          "text": [
            "Cloning into './MPyRTemp'...\n",
            "remote: Enumerating objects: 290, done.\u001b[K\n",
            "remote: Counting objects: 100% (290/290), done.\u001b[K\n",
            "remote: Compressing objects: 100% (222/222), done.\u001b[K\n",
            "remote: Total 290 (delta 104), reused 172 (delta 47), pack-reused 0\u001b[K\n",
            "Receiving objects: 100% (290/290), 20.87 MiB | 20.77 MiB/s, done.\n",
            "Resolving deltas: 100% (104/104), done.\n",
            "cp: cannot stat './MPyRTemp/demo/src/*': No such file or directory\n"
          ]
        }
      ]
    },
    {
      "cell_type": "markdown",
      "metadata": {
        "id": "14fstGETAZT9"
      },
      "source": [
        "### 1.4. Installation des dépendances"
      ]
    },
    {
      "cell_type": "markdown",
      "metadata": {
        "id": "t_wTJJC5-T1J"
      },
      "source": [
        "Quelques librairies sont nécessaires au bon fonctionnement de l'application. Nous les installons toutes depuis le fichier de configuration rattaché a l’application.  Il est possible qu'une erreur de version apparaisse, sans conséquence pour la bonne exécution de l'application."
      ]
    },
    {
      "cell_type": "code",
      "metadata": {
        "id": "_V0R4yqvmiYS"
      },
      "source": [
        "\n",
        "!pip install -r /content/drive/MyDrive/streamlit/requirements.txt  > /dev/null"
      ],
      "execution_count": 10,
      "outputs": []
    },
    {
      "cell_type": "markdown",
      "metadata": {
        "id": "encqGJ4u0FYG"
      },
      "source": [
        "## **2. Lancement de l'application**"
      ]
    },
    {
      "cell_type": "markdown",
      "metadata": {
        "id": "JExKU0Gvn72U"
      },
      "source": [
        "Les installations étant terminées, l'application peut être lancée. Nous allons pour cela initier un tunnel ngrok.\n",
        "\n",
        "Au préalable, il convient de générer un fichier de configuration comportant un token de connexion. Rendez-vous sur le site ngrok.com, inscrivez-vous si ce n'est déjà fait et récupérez votre token (présent sur la page de votre profil). Remplacer ensuite la ligne ci-dessous par votre propre token avant de l'exécuter.\n"
      ]
    },
    {
      "cell_type": "code",
      "metadata": {
        "colab": {
          "base_uri": "https://localhost:8080/"
        },
        "id": "vnkvhNBp9jf1",
        "outputId": "cf0d4000-e7f4-4384-bdc5-90ff1c09c0ca"
      },
      "source": [
        "!ngrok authtoken 1xuLUeYQUBq58sA61Zb9ekFPVSU_GcaPTxM1MAWiDczNvtCy"
      ],
      "execution_count": 7,
      "outputs": [
        {
          "output_type": "stream",
          "name": "stdout",
          "text": [
            "Authtoken saved to configuration file: /root/.ngrok2/ngrok.yml\n"
          ]
        }
      ]
    },
    {
      "cell_type": "code",
      "metadata": {
        "id": "QCKuBxsuk0lN",
        "colab": {
          "base_uri": "https://localhost:8080/"
        },
        "outputId": "fd3bcfc3-f4cb-4e24-b7e8-1d0b85e954da"
      },
      "source": [
        "from google.colab import drive\n",
        "drive.mount('/content/drive')"
      ],
      "execution_count": 8,
      "outputs": [
        {
          "output_type": "stream",
          "name": "stdout",
          "text": [
            "Mounted at /content/drive\n"
          ]
        }
      ]
    },
    {
      "cell_type": "markdown",
      "metadata": {
        "id": "MNHYv8wj1Zzr"
      },
      "source": [
        "Lancez les 3 cellules ci-dessous, un nouveau tunnel sera alors généré. Pour visualiser le rendu de l'application il faut se rendre sur le lien indiqué par la seconde cellule (de type https://xxxxxxx.ngrok.io)"
      ]
    },
    {
      "cell_type": "code",
      "metadata": {
        "id": "qGCM2OjvxNit"
      },
      "source": [
        "get_ipython().system_raw('./ngrok http 8501 &')"
      ],
      "execution_count": 14,
      "outputs": []
    },
    {
      "cell_type": "code",
      "metadata": {
        "colab": {
          "base_uri": "https://localhost:8080/"
        },
        "id": "bxwv00hdxedU",
        "outputId": "32be37bc-1c15-42dc-a4ad-63575194dd01"
      },
      "source": [
        "!curl -s http://localhost:4040/api/tunnels | python3 -c \\\n",
        "    'import sys, json; print(\"URL pour visualiser l application : \" +json.load(sys.stdin)[\"tunnels\"][0][\"public_url\"])'"
      ],
      "execution_count": 15,
      "outputs": [
        {
          "output_type": "stream",
          "name": "stdout",
          "text": [
            "URL pour visualiser l application : https://5ba7-34-90-78-113.ngrok.io\n"
          ]
        }
      ]
    },
    {
      "cell_type": "code",
      "metadata": {
        "colab": {
          "base_uri": "https://localhost:8080/"
        },
        "id": "T1bWdX1Y_n9j",
        "outputId": "31a989fa-8d84-46ca-ee06-1704946439da"
      },
      "source": [
        "!streamlit run /content/drive/MyDrive/streamlit/app.py"
      ],
      "execution_count": null,
      "outputs": [
        {
          "output_type": "stream",
          "name": "stdout",
          "text": [
            "\u001b[0m\n",
            "\u001b[34m\u001b[1m  You can now view your Streamlit app in your browser.\u001b[0m\n",
            "\u001b[0m\n",
            "\u001b[34m  Network URL: \u001b[0m\u001b[1mhttp://172.28.0.2:8501\u001b[0m\n",
            "\u001b[34m  External URL: \u001b[0m\u001b[1mhttp://34.90.78.113:8501\u001b[0m\n",
            "\u001b[0m\n",
            "2021-09-19 19:40:38.942 Traceback (most recent call last):\n",
            "  File \"/usr/local/lib/python3.7/dist-packages/streamlit/script_runner.py\", line 354, in _run_script\n",
            "    exec(code, module.__dict__)\n",
            "  File \"/content/drive/MyDrive/streamlit/app.py\", line 14, in <module>\n",
            "    import single_image_recognition\n",
            "  File \"/content/drive/MyDrive/streamlit/single_image_recognition.py\", line 12, in <module>\n",
            "    from components.image_recognition      import CImageRecognition\n",
            "  File \"/content/drive/MyDrive/streamlit/components/image_recognition.py\", line 501\n",
            "    btn_LaunchRecognition_2 = st.button(\n",
            "                                       ^\n",
            "IndentationError: unindent does not match any outer indentation level\n",
            "\n",
            "Loading the Model: Mushroom Detector ...\n",
            "Downloading...\n",
            "From: https://drive.google.com/uc?id=1ZwAKT0Pt_jIvxkJZccmJ_wq45DX3jwyz\n",
            "To: /content/Mushroom Detector.Prod\n",
            "16.9MB [00:00, 54.4MB/s]\n",
            "2021-09-19 19:41:37.776256: E tensorflow/stream_executor/cuda/cuda_driver.cc:271] failed call to cuInit: CUDA_ERROR_NO_DEVICE: no CUDA-capable device is detected\n",
            "2021-09-19 19:41:37.776330: I tensorflow/stream_executor/cuda/cuda_diagnostics.cc:156] kernel driver does not appear to be running on this host (6881f5cdc8f0): /proc/driver/nvidia/version does not exist\n",
            "Loading done successfully\n",
            "2021-09-19 19:41:39.306076: I tensorflow/compiler/mlir/mlir_graph_optimization_pass.cc:185] None of the MLIR Optimization Passes are enabled (registered 2)\n",
            "1/1 [==============================] - 1s 1s/step\n",
            "model[ Mushroom detector ] predictions: [0.9923464  0.00765358]\n",
            "Loading the Model: EfficientNetB0 ...\n",
            "Downloading...\n",
            "From: https://drive.google.com/uc?id=1O3kkhJ78ZCKLr0cPnDOOIfBAwxzBJTqB\n",
            "To: /content/EfficientNetB0.Prod\n",
            "26.4MB [00:00, 87.9MB/s]\n",
            "Loading done successfully\n",
            "1/1 [==============================] - 1s 1s/step\n",
            "Loading the Model: EfficientNetB1 ...\n",
            "Downloading...\n",
            "From: https://drive.google.com/uc?id=1L4jFY0-jQVowsexZJPgdnQ3GARa8omxT\n",
            "To: /content/EfficientNetB1.Prod\n",
            "28.0MB [00:00, 167MB/s]\n",
            "Loading done successfully\n",
            "1/1 [==============================] - 2s 2s/step\n",
            "Loading the Model: EfficientNetB2 ...\n",
            "Downloading...\n",
            "From: https://drive.google.com/uc?id=1bFt0rSmhtQYh-93sCumTTeDfaor3oG5w\n",
            "To: /content/EfficientNetB2.Prod\n",
            "125MB [00:01, 88.9MB/s]\n",
            "Loading done successfully\n",
            "1/1 [==============================] - 2s 2s/step\n",
            "Loading the Model: EfficientNetB3 ...\n",
            "Downloading...\n",
            "From: https://drive.google.com/uc?id=15_GWH-qBQWLJjlkvbYvmzck9oFlMgbZz\n",
            "To: /content/EfficientNetB3.Prod\n",
            "60.1MB [00:01, 37.9MB/s]\n",
            "Loading done successfully\n",
            "2021-09-19 19:42:21.214 5 out of the last 5 calls to <function Model.make_predict_function.<locals>.predict_function at 0x7f65cb55ccb0> triggered tf.function retracing. Tracing is expensive and the excessive number of tracings could be due to (1) creating @tf.function repeatedly in a loop, (2) passing tensors with different shapes, (3) passing Python objects instead of tensors. For (1), please define your @tf.function outside of the loop. For (2), @tf.function has experimental_relax_shapes=True option that relaxes argument shapes that can avoid unnecessary retracing. For (3), please refer to https://www.tensorflow.org/guide/function#controlling_retracing and https://www.tensorflow.org/api_docs/python/tf/function for  more details.\n",
            "1/1 [==============================] - 2s 2s/step\n",
            "Loading the Model: EfficientNetB4 ...\n",
            "Downloading...\n",
            "From: https://drive.google.com/uc?id=1oZTrW-iN62AlBKZ3uSzRxPlzeq43wQbY\n",
            "To: /content/EfficientNetB4.Prod\n",
            "89.5MB [00:01, 50.7MB/s]\n",
            "Loading done successfully\n",
            "2021-09-19 19:42:32.566 6 out of the last 6 calls to <function Model.make_predict_function.<locals>.predict_function at 0x7f65dad9bf80> triggered tf.function retracing. Tracing is expensive and the excessive number of tracings could be due to (1) creating @tf.function repeatedly in a loop, (2) passing tensors with different shapes, (3) passing Python objects instead of tensors. For (1), please define your @tf.function outside of the loop. For (2), @tf.function has experimental_relax_shapes=True option that relaxes argument shapes that can avoid unnecessary retracing. For (3), please refer to https://www.tensorflow.org/guide/function#controlling_retracing and https://www.tensorflow.org/api_docs/python/tf/function for  more details.\n",
            "1/1 [==============================] - 3s 3s/step\n",
            "Loading the Model: EfficientNetB5 ...\n",
            "Downloading...\n",
            "From: https://drive.google.com/uc?id=1Q_WBz9jJbVTuhy8Xhk5khOYRwKte73am\n",
            "To: /content/EfficientNetB5.Prod\n",
            "135MB [00:01, 88.2MB/s]\n",
            "Loading done successfully\n",
            "1/1 [==============================] - 3s 3s/step\n",
            "Loading the Model: EfficientNetB6 ...\n",
            "Downloading...\n",
            "From: https://drive.google.com/uc?id=1uf8E9lAfV3S7xNKdBsCa2EUzOCg97TFX\n",
            "To: /content/EfficientNetB6.Prod\n",
            "186MB [00:01, 181MB/s]\n",
            "Loading done successfully\n",
            "1/1 [==============================] - 4s 4s/step\n",
            "Loading the Model: EfficientNetB7 ...\n",
            "Downloading...\n",
            "From: https://drive.google.com/uc?id=1opL4PZz1nKVW6qVjxJhNhHpul1XGpwil\n",
            "To: /content/EfficientNetB7.Prod\n",
            "281MB [00:07, 39.7MB/s]\n",
            "Loading done successfully\n",
            "1/1 [==============================] - 6s 6s/step\n",
            "Loading the EnsembleClassifier: Mushroom Classifier ...\n",
            "Downloading...\n",
            "From: https://drive.google.com/uc?id=1b3MZHzPkJHgrH79r5ntdZ1OKvDchT9Zt\n",
            "To: /content/Mushroom Classifier.Prod\n",
            "100% 9.97k/9.97k [00:00<00:00, 31.2MB/s]\n",
            "Loading done successfully\n",
            "modelProbas.shape:  (1, 10)\n",
            "2021-09-19 19:45:37.216 Traceback (most recent call last):\n",
            "  File \"/usr/local/lib/python3.7/dist-packages/streamlit/script_runner.py\", line 354, in _run_script\n",
            "    exec(code, module.__dict__)\n",
            "  File \"/content/drive/MyDrive/streamlit/app.py\", line 14, in <module>\n",
            "    import single_image_recognition\n",
            "  File \"/content/drive/MyDrive/streamlit/single_image_recognition.py\", line 12, in <module>\n",
            "    from components.image_recognition      import CImageRecognition\n",
            "  File \"/content/drive/MyDrive/streamlit/components/image_recognition.py\", line 506\n",
            "    if btn_LaunchRecognition_2:\n",
            "                              ^\n",
            "IndentationError: unindent does not match any outer indentation level\n",
            "\n",
            "Loading the Model: EfficientNetB0 ...\n",
            "Downloading...\n",
            "From: https://drive.google.com/uc?id=1O3kkhJ78ZCKLr0cPnDOOIfBAwxzBJTqB\n",
            "To: /content/EfficientNetB0.Prod\n",
            "26.4MB [00:00, 183MB/s]\n",
            "Loading done successfully\n",
            "Loading the Model: EfficientNetB1 ...\n",
            "Downloading...\n",
            "From: https://drive.google.com/uc?id=1L4jFY0-jQVowsexZJPgdnQ3GARa8omxT\n",
            "To: /content/EfficientNetB1.Prod\n",
            "28.0MB [00:00, 270MB/s]\n",
            "Loading done successfully\n",
            "Loading the Model: EfficientNetB2 ...\n",
            "Downloading...\n",
            "From: https://drive.google.com/uc?id=1bFt0rSmhtQYh-93sCumTTeDfaor3oG5w\n",
            "To: /content/EfficientNetB2.Prod\n",
            "125MB [00:00, 230MB/s]\n",
            "Loading done successfully\n",
            "Loading the Model: EfficientNetB3 ...\n",
            "Downloading...\n",
            "From: https://drive.google.com/uc?id=15_GWH-qBQWLJjlkvbYvmzck9oFlMgbZz\n",
            "To: /content/EfficientNetB3.Prod\n",
            "60.1MB [00:00, 240MB/s]\n",
            "Loading done successfully\n",
            "Loading the Model: EfficientNetB4 ...\n",
            "Downloading...\n",
            "From: https://drive.google.com/uc?id=1oZTrW-iN62AlBKZ3uSzRxPlzeq43wQbY\n",
            "To: /content/EfficientNetB4.Prod\n",
            "89.5MB [00:00, 205MB/s]\n",
            "Loading done successfully\n",
            "Loading the Model: EfficientNetB5 ...\n",
            "Downloading...\n",
            "From: https://drive.google.com/uc?id=1Q_WBz9jJbVTuhy8Xhk5khOYRwKte73am\n",
            "To: /content/EfficientNetB5.Prod\n",
            "135MB [00:00, 220MB/s]\n",
            "Loading done successfully\n",
            "Loading the Model: EfficientNetB6 ...\n",
            "Downloading...\n",
            "From: https://drive.google.com/uc?id=1uf8E9lAfV3S7xNKdBsCa2EUzOCg97TFX\n",
            "To: /content/EfficientNetB6.Prod\n",
            "186MB [00:00, 198MB/s]\n",
            "Loading done successfully\n",
            "Loading the Model: EfficientNetB7 ...\n",
            "Downloading...\n",
            "From: https://drive.google.com/uc?id=1opL4PZz1nKVW6qVjxJhNhHpul1XGpwil\n",
            "To: /content/EfficientNetB7.Prod\n",
            "281MB [00:01, 160MB/s]\n",
            "Loading done successfully\n",
            "Loading the Model: Mushroom Detector ...\n",
            "Downloading...\n",
            "From: https://drive.google.com/uc?id=1ZwAKT0Pt_jIvxkJZccmJ_wq45DX3jwyz\n",
            "To: /content/Mushroom Detector.Prod\n",
            "16.9MB [00:00, 153MB/s]\n",
            "Loading done successfully\n",
            "1/1 [==============================] - 1s 1s/step\n",
            "model[ Mushroom detector ] predictions: [0.9923464  0.00765358]\n",
            "1/1 [==============================] - 1s 1s/step\n",
            "1/1 [==============================] - 2s 2s/step\n",
            "1/1 [==============================] - 2s 2s/step\n",
            "1/1 [==============================] - 2s 2s/step\n",
            "1/1 [==============================] - 3s 3s/step\n",
            "1/1 [==============================] - 3s 3s/step\n",
            "1/1 [==============================] - 5s 5s/step\n",
            "1/1 [==============================] - 6s 6s/step\n",
            "Loading the EnsembleClassifier: Mushroom Classifier ...\n",
            "Downloading...\n",
            "From: https://drive.google.com/uc?id=1b3MZHzPkJHgrH79r5ntdZ1OKvDchT9Zt\n",
            "To: /content/Mushroom Classifier.Prod\n",
            "100% 9.97k/9.97k [00:00<00:00, 32.8MB/s]\n",
            "Loading done successfully\n",
            "modelProbas.shape:  (1, 10)\n",
            "Loading the Model: Mushroom Detector ...\n",
            "Downloading...\n",
            "From: https://drive.google.com/uc?id=1ZwAKT0Pt_jIvxkJZccmJ_wq45DX3jwyz\n",
            "To: /content/Mushroom Detector.Prod\n",
            "16.9MB [00:00, 182MB/s]\n",
            "Loading done successfully\n",
            "1/1 [==============================] - 1s 1s/step\n",
            "model[ Mushroom detector ] predictions: [0.9923464  0.00765358]\n",
            "Loading the Model: EfficientNetB0 ...\n",
            "Downloading...\n",
            "From: https://drive.google.com/uc?id=1O3kkhJ78ZCKLr0cPnDOOIfBAwxzBJTqB\n",
            "To: /content/EfficientNetB0.Prod\n",
            "26.4MB [00:00, 206MB/s]\n",
            "Loading done successfully\n",
            "1/1 [==============================] - 1s 1s/step\n",
            "Loading the Model: EfficientNetB1 ...\n",
            "Downloading...\n",
            "From: https://drive.google.com/uc?id=1L4jFY0-jQVowsexZJPgdnQ3GARa8omxT\n",
            "To: /content/EfficientNetB1.Prod\n",
            "28.0MB [00:00, 180MB/s]\n",
            "Loading done successfully\n",
            "1/1 [==============================] - 2s 2s/step\n",
            "Loading the Model: EfficientNetB2 ...\n",
            "Downloading...\n",
            "From: https://drive.google.com/uc?id=1bFt0rSmhtQYh-93sCumTTeDfaor3oG5w\n",
            "To: /content/EfficientNetB2.Prod\n",
            "125MB [00:00, 213MB/s]\n",
            "Loading done successfully\n",
            "1/1 [==============================] - 2s 2s/step\n",
            "Loading the Model: EfficientNetB3 ...\n",
            "Downloading...\n",
            "From: https://drive.google.com/uc?id=15_GWH-qBQWLJjlkvbYvmzck9oFlMgbZz\n",
            "To: /content/EfficientNetB3.Prod\n",
            "60.1MB [00:00, 217MB/s]\n",
            "Loading done successfully\n",
            "1/1 [==============================] - 2s 2s/step\n",
            "Loading the Model: EfficientNetB4 ...\n",
            "Downloading...\n",
            "From: https://drive.google.com/uc?id=1oZTrW-iN62AlBKZ3uSzRxPlzeq43wQbY\n",
            "To: /content/EfficientNetB4.Prod\n",
            "89.5MB [00:00, 235MB/s]\n",
            "Loading done successfully\n",
            "1/1 [==============================] - 3s 3s/step\n",
            "Loading the Model: EfficientNetB5 ...\n",
            "Downloading...\n",
            "From: https://drive.google.com/uc?id=1Q_WBz9jJbVTuhy8Xhk5khOYRwKte73am\n",
            "To: /content/EfficientNetB5.Prod\n",
            "135MB [00:00, 218MB/s]\n",
            "Loading done successfully\n",
            "1/1 [==============================] - 4s 4s/step\n",
            "Loading the Model: EfficientNetB6 ...\n",
            "Downloading...\n",
            "From: https://drive.google.com/uc?id=1uf8E9lAfV3S7xNKdBsCa2EUzOCg97TFX\n",
            "To: /content/EfficientNetB6.Prod\n",
            "186MB [00:00, 251MB/s]\n",
            "Loading done successfully\n",
            "1/1 [==============================] - 4s 4s/step\n",
            "Loading the Model: EfficientNetB7 ...\n",
            "Downloading...\n",
            "From: https://drive.google.com/uc?id=1opL4PZz1nKVW6qVjxJhNhHpul1XGpwil\n",
            "To: /content/EfficientNetB7.Prod\n",
            "281MB [00:01, 263MB/s]\n",
            "Loading done successfully\n",
            "1/1 [==============================] - 6s 6s/step\n",
            "Loading the EnsembleClassifier: Mushroom Classifier ...\n",
            "Downloading...\n",
            "From: https://drive.google.com/uc?id=1b3MZHzPkJHgrH79r5ntdZ1OKvDchT9Zt\n",
            "To: /content/Mushroom Classifier.Prod\n",
            "100% 9.97k/9.97k [00:00<00:00, 35.3MB/s]\n",
            "Loading done successfully\n",
            "modelProbas.shape:  (1, 10)\n",
            "2021-09-19 19:59:59.226 Traceback (most recent call last):\n",
            "  File \"/usr/local/lib/python3.7/dist-packages/streamlit/script_runner.py\", line 354, in _run_script\n",
            "    exec(code, module.__dict__)\n",
            "  File \"/content/drive/MyDrive/streamlit/app.py\", line 58, in <module>\n",
            "    page.app()\n",
            "  File \"/content/drive/MyDrive/streamlit/single_image_recognition.py\", line 27, in app\n",
            "    imageState.setFromRegistry()\n",
            "  File \"/content/drive/MyDrive/streamlit/session_state/base_state.py\", line 88, in setFromRegistry\n",
            "    CObjectState.set(self, ss.get(self.key))\n",
            "  File \"/content/drive/MyDrive/streamlit/session_state/base_state.py\", line 76, in set\n",
            "    raise ValueError('The parameter <state> does not correspond to a valid state for this class instance.')\n",
            "ValueError: The parameter <state> does not correspond to a valid state for this class instance.\n",
            "\n",
            "Loading the Model: Mushroom Detector ...\n",
            "Downloading...\n",
            "From: https://drive.google.com/uc?id=1ZwAKT0Pt_jIvxkJZccmJ_wq45DX3jwyz\n",
            "To: /content/Mushroom Detector.Prod\n",
            "16.9MB [00:00, 209MB/s]\n",
            "Loading done successfully\n",
            "1/1 [==============================] - 1s 1s/step\n",
            "model[ Mushroom detector ] predictions: [0.9923464  0.00765358]\n",
            "Loading the Model: EfficientNetB0 ...\n",
            "Downloading...\n",
            "From: https://drive.google.com/uc?id=1O3kkhJ78ZCKLr0cPnDOOIfBAwxzBJTqB\n",
            "To: /content/EfficientNetB0.Prod\n",
            "26.4MB [00:00, 231MB/s]\n",
            "Loading done successfully\n",
            "1/1 [==============================] - 1s 1s/step\n",
            "Loading the Model: EfficientNetB1 ...\n",
            "Downloading...\n",
            "From: https://drive.google.com/uc?id=1L4jFY0-jQVowsexZJPgdnQ3GARa8omxT\n",
            "To: /content/EfficientNetB1.Prod\n",
            "28.0MB [00:00, 235MB/s]\n",
            "Loading done successfully\n",
            "1/1 [==============================] - 2s 2s/step\n",
            "Loading the Model: EfficientNetB2 ...\n",
            "Downloading...\n",
            "From: https://drive.google.com/uc?id=1bFt0rSmhtQYh-93sCumTTeDfaor3oG5w\n",
            "To: /content/EfficientNetB2.Prod\n",
            "125MB [00:00, 252MB/s]\n",
            "Loading done successfully\n",
            "1/1 [==============================] - 2s 2s/step\n",
            "Loading the Model: EfficientNetB3 ...\n",
            "Downloading...\n",
            "From: https://drive.google.com/uc?id=15_GWH-qBQWLJjlkvbYvmzck9oFlMgbZz\n",
            "To: /content/EfficientNetB3.Prod\n",
            "60.1MB [00:00, 294MB/s]\n",
            "Loading done successfully\n",
            "1/1 [==============================] - 2s 2s/step\n",
            "Loading the Model: EfficientNetB4 ...\n",
            "Downloading...\n",
            "From: https://drive.google.com/uc?id=1oZTrW-iN62AlBKZ3uSzRxPlzeq43wQbY\n",
            "To: /content/EfficientNetB4.Prod\n",
            "89.5MB [00:00, 267MB/s]\n",
            "Loading done successfully\n",
            "1/1 [==============================] - 3s 3s/step\n",
            "Loading the Model: EfficientNetB5 ...\n",
            "Downloading...\n",
            "From: https://drive.google.com/uc?id=1Q_WBz9jJbVTuhy8Xhk5khOYRwKte73am\n",
            "To: /content/EfficientNetB5.Prod\n",
            "135MB [00:00, 206MB/s]\n",
            "Loading done successfully\n",
            "1/1 [==============================] - 3s 3s/step\n",
            "Loading the Model: EfficientNetB6 ...\n",
            "Downloading...\n",
            "From: https://drive.google.com/uc?id=1uf8E9lAfV3S7xNKdBsCa2EUzOCg97TFX\n",
            "To: /content/EfficientNetB6.Prod\n",
            "186MB [00:00, 231MB/s]\n",
            "Loading done successfully\n",
            "1/1 [==============================] - 5s 5s/step\n",
            "Loading the Model: EfficientNetB7 ...\n",
            "Downloading...\n",
            "From: https://drive.google.com/uc?id=1opL4PZz1nKVW6qVjxJhNhHpul1XGpwil\n",
            "To: /content/EfficientNetB7.Prod\n",
            "281MB [00:01, 234MB/s]\n",
            "Loading done successfully\n",
            "1/1 [==============================] - 6s 6s/step\n",
            "Loading the EnsembleClassifier: Mushroom Classifier ...\n",
            "Downloading...\n",
            "From: https://drive.google.com/uc?id=1b3MZHzPkJHgrH79r5ntdZ1OKvDchT9Zt\n",
            "To: /content/Mushroom Classifier.Prod\n",
            "100% 9.97k/9.97k [00:00<00:00, 24.3MB/s]\n",
            "Loading done successfully\n",
            "modelProbas.shape:  (1, 10)\n",
            "2021-09-19 20:13:51.914 Traceback (most recent call last):\n",
            "  File \"/usr/local/lib/python3.7/dist-packages/streamlit/script_runner.py\", line 354, in _run_script\n",
            "    exec(code, module.__dict__)\n",
            "  File \"/content/drive/MyDrive/streamlit/app.py\", line 14, in <module>\n",
            "    import single_image_recognition\n",
            "  File \"/content/drive/MyDrive/streamlit/single_image_recognition.py\", line 12, in <module>\n",
            "    from components.image_recognition      import CImageRecognition\n",
            "  File \"/content/drive/MyDrive/streamlit/components/image_recognition.py\", line 424\n",
            "    with st.container()\n",
            "                      ^\n",
            "SyntaxError: invalid syntax\n",
            "\n",
            "2021-09-19 20:14:07.222 Traceback (most recent call last):\n",
            "  File \"/usr/local/lib/python3.7/dist-packages/streamlit/script_runner.py\", line 354, in _run_script\n",
            "    exec(code, module.__dict__)\n",
            "  File \"/content/drive/MyDrive/streamlit/app.py\", line 14, in <module>\n",
            "    import single_image_recognition\n",
            "  File \"/content/drive/MyDrive/streamlit/single_image_recognition.py\", line 12, in <module>\n",
            "    from components.image_recognition      import CImageRecognition\n",
            "  File \"/content/drive/MyDrive/streamlit/components/image_recognition.py\", line 501\n",
            "    pp2= st.container():\n",
            "                       ^\n",
            "IndentationError: unindent does not match any outer indentation level\n",
            "\n",
            "2021-09-19 20:14:29.732 Traceback (most recent call last):\n",
            "  File \"/usr/local/lib/python3.7/dist-packages/streamlit/script_runner.py\", line 354, in _run_script\n",
            "    exec(code, module.__dict__)\n",
            "  File \"/content/drive/MyDrive/streamlit/app.py\", line 14, in <module>\n",
            "    import single_image_recognition\n",
            "  File \"/content/drive/MyDrive/streamlit/single_image_recognition.py\", line 12, in <module>\n",
            "    from components.image_recognition      import CImageRecognition\n",
            "  File \"/content/drive/MyDrive/streamlit/components/image_recognition.py\", line 503\n",
            "    btn_LaunchRecognition_2 = st.button(\n",
            "    ^\n",
            "IndentationError: unexpected indent\n",
            "\n",
            "Loading the Model: EfficientNetB0 ...\n",
            "Downloading...\n",
            "From: https://drive.google.com/uc?id=1O3kkhJ78ZCKLr0cPnDOOIfBAwxzBJTqB\n",
            "To: /content/EfficientNetB0.Prod\n",
            "26.4MB [00:00, 211MB/s]\n",
            "Loading done successfully\n",
            "Loading the Model: EfficientNetB1 ...\n",
            "Downloading...\n",
            "From: https://drive.google.com/uc?id=1L4jFY0-jQVowsexZJPgdnQ3GARa8omxT\n",
            "To: /content/EfficientNetB1.Prod\n",
            "28.0MB [00:00, 129MB/s] \n",
            "Loading done successfully\n",
            "Loading the Model: EfficientNetB2 ...\n",
            "Downloading...\n",
            "From: https://drive.google.com/uc?id=1bFt0rSmhtQYh-93sCumTTeDfaor3oG5w\n",
            "To: /content/EfficientNetB2.Prod\n",
            "125MB [00:00, 155MB/s]\n",
            "Loading done successfully\n",
            "Loading the Model: EfficientNetB3 ...\n",
            "Downloading...\n",
            "From: https://drive.google.com/uc?id=15_GWH-qBQWLJjlkvbYvmzck9oFlMgbZz\n",
            "To: /content/EfficientNetB3.Prod\n",
            "60.1MB [00:00, 263MB/s]\n",
            "Loading done successfully\n",
            "Loading the Model: EfficientNetB4 ...\n",
            "Downloading...\n",
            "From: https://drive.google.com/uc?id=1oZTrW-iN62AlBKZ3uSzRxPlzeq43wQbY\n",
            "To: /content/EfficientNetB4.Prod\n",
            "89.5MB [00:00, 305MB/s]\n",
            "Loading done successfully\n",
            "Loading the Model: EfficientNetB5 ...\n",
            "Downloading...\n",
            "From: https://drive.google.com/uc?id=1Q_WBz9jJbVTuhy8Xhk5khOYRwKte73am\n",
            "To: /content/EfficientNetB5.Prod\n",
            "135MB [00:00, 275MB/s]\n",
            "Loading done successfully\n",
            "Loading the Model: EfficientNetB6 ...\n",
            "Downloading...\n",
            "From: https://drive.google.com/uc?id=1uf8E9lAfV3S7xNKdBsCa2EUzOCg97TFX\n",
            "To: /content/EfficientNetB6.Prod\n",
            "186MB [00:00, 224MB/s]\n",
            "Loading done successfully\n",
            "Loading the Model: EfficientNetB7 ...\n",
            "Downloading...\n",
            "From: https://drive.google.com/uc?id=1opL4PZz1nKVW6qVjxJhNhHpul1XGpwil\n",
            "To: /content/EfficientNetB7.Prod\n",
            "281MB [00:01, 236MB/s]\n",
            "Loading done successfully\n",
            "Loading the Model: Mushroom Detector ...\n",
            "Downloading...\n",
            "From: https://drive.google.com/uc?id=1ZwAKT0Pt_jIvxkJZccmJ_wq45DX3jwyz\n",
            "To: /content/Mushroom Detector.Prod\n",
            "16.9MB [00:00, 253MB/s]\n",
            "Loading done successfully\n",
            "1/1 [==============================] - 1s 1s/step\n",
            "model[ Mushroom detector ] predictions: [0.9923464  0.00765358]\n",
            "1/1 [==============================] - 1s 1s/step\n",
            "1/1 [==============================] - 2s 2s/step\n",
            "1/1 [==============================] - 2s 2s/step\n",
            "1/1 [==============================] - 2s 2s/step\n",
            "1/1 [==============================] - 3s 3s/step\n",
            "1/1 [==============================] - 3s 3s/step\n",
            "1/1 [==============================] - 4s 4s/step\n",
            "1/1 [==============================] - 6s 6s/step\n",
            "Loading the EnsembleClassifier: Mushroom Classifier ...\n",
            "Downloading...\n",
            "From: https://drive.google.com/uc?id=1b3MZHzPkJHgrH79r5ntdZ1OKvDchT9Zt\n",
            "To: /content/Mushroom Classifier.Prod\n",
            "100% 9.97k/9.97k [00:00<00:00, 5.68MB/s]\n",
            "Loading done successfully\n",
            "modelProbas.shape:  (1, 10)\n"
          ]
        }
      ]
    }
  ]
}