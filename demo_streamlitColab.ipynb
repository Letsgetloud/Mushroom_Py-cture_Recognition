{
  "nbformat": 4,
  "nbformat_minor": 0,
  "metadata": {
    "colab": {
      "name": "demo_streamlitColab.ipynb",
      "provenance": [],
      "collapsed_sections": [],
      "include_colab_link": true
    },
    "kernelspec": {
      "display_name": "Python 3",
      "name": "python3"
    }
  },
  "cells": [
    {
      "cell_type": "markdown",
      "metadata": {
        "id": "view-in-github",
        "colab_type": "text"
      },
      "source": [
        "<a href=\"https://colab.research.google.com/github/Letsgetloud/Mushroom_Py-cture_Recognition/blob/main/demo_streamlitColab.ipynb\" target=\"_parent\"><img src=\"https://colab.research.google.com/assets/colab-badge.svg\" alt=\"Open In Colab\"/></a>"
      ]
    },
    {
      "cell_type": "markdown",
      "metadata": {
        "id": "vWmc_s2ezvU0"
      },
      "source": [
        "#Demo Streamlit"
      ]
    },
    {
      "cell_type": "markdown",
      "metadata": {
        "id": "xZMtoqVt8hzh"
      },
      "source": [
        "La démo Streamlit est accessible en ligne, via le lien indiqué dans la description du repo Github. Néanmoins, pour ceux qui le souhaitent ou dans le cas où la démo serait inaccessible, il est possible de la lancer via ce notebook depuis Google Colab.\n",
        "\n",
        "Le principe est d'initier un tunnel via le service Ngrok afin de rendre publique l'adresse du serveur instancié par streamlit. Pour éviter d'atteindre les quotas de soumission auprès de Ngrok, il faut au préalable s'inscrire sur le site https://ngrok.com/ afin d'y récupérer un token. Ce dernier sera nécessaire plus loin dans ce notebook \n"
      ]
    },
    {
      "cell_type": "markdown",
      "metadata": {
        "id": "Doh1Nrjpz9ua"
      },
      "source": [
        "## **1. Installations**"
      ]
    },
    {
      "cell_type": "markdown",
      "metadata": {
        "id": "1aViQX800ht7"
      },
      "source": [
        "### 1.1. Installation de Streamlit"
      ]
    },
    {
      "cell_type": "markdown",
      "metadata": {
        "id": "RBr5L5gnvCLY"
      },
      "source": [
        "Il faut d'abord installer Streamlit en exécutant le code ci-dessous. Il est possible qu'une erreur de version apparaisse, sans conséquence pour la bonne exécution de l'application.<br>\n",
        "Apres avoir exécuté la cellule ci-dessous il faut surtout penser à redémarrer l'environnement d'exécution via le menu !\n"
      ]
    },
    {
      "cell_type": "code",
      "metadata": {
        "id": "4pX82dyHr8XL"
      },
      "source": [
        "!pip install -q streamlit"
      ],
      "execution_count": 3,
      "outputs": []
    },
    {
      "cell_type": "markdown",
      "metadata": {
        "id": "uzvl_5Cv8HeX"
      },
      "source": [
        "## **<font color='red'>Ici on pense a redémarrer l'environnement.</font>**"
      ]
    },
    {
      "cell_type": "markdown",
      "metadata": {
        "id": "EFoluk860syY"
      },
      "source": [
        "### 1.2. Installation de NGRok"
      ]
    },
    {
      "cell_type": "markdown",
      "metadata": {
        "id": "G7RXzfxe0xRe"
      },
      "source": [
        "NGrok va nous permettre de créer un tunnel nous permettant de visualiser l'application dans un navigateur internet. Il faut exécuter les cellules suivantes pour télédécharger les sources du noyau sous Colab."
      ]
    },
    {
      "cell_type": "code",
      "metadata": {
        "colab": {
          "base_uri": "https://localhost:8080/"
        },
        "id": "0R8CWKpKD3HX",
        "outputId": "d1b2a323-4bde-4f28-9a7b-4948bef78f91"
      },
      "source": [
        "!pip install pyngrok==4.1.1"
      ],
      "execution_count": 4,
      "outputs": [
        {
          "output_type": "stream",
          "name": "stdout",
          "text": [
            "Requirement already satisfied: pyngrok==4.1.1 in /usr/local/lib/python3.7/dist-packages (4.1.1)\n",
            "Requirement already satisfied: PyYAML in /usr/local/lib/python3.7/dist-packages (from pyngrok==4.1.1) (3.13)\n",
            "Requirement already satisfied: future in /usr/local/lib/python3.7/dist-packages (from pyngrok==4.1.1) (0.16.0)\n"
          ]
        }
      ]
    },
    {
      "cell_type": "code",
      "metadata": {
        "colab": {
          "base_uri": "https://localhost:8080/"
        },
        "id": "VSPUMEHYwqng",
        "outputId": "99649825-211c-450b-d1fd-aae55be6e845"
      },
      "source": [
        "!wget https://bin.equinox.io/c/4VmDzA7iaHb/ngrok-stable-linux-amd64.zip"
      ],
      "execution_count": 5,
      "outputs": [
        {
          "output_type": "stream",
          "name": "stdout",
          "text": [
            "--2021-09-20 13:10:16--  https://bin.equinox.io/c/4VmDzA7iaHb/ngrok-stable-linux-amd64.zip\n",
            "Resolving bin.equinox.io (bin.equinox.io)... 18.205.222.128, 54.161.241.46, 54.237.133.81, ...\n",
            "Connecting to bin.equinox.io (bin.equinox.io)|18.205.222.128|:443... connected.\n",
            "HTTP request sent, awaiting response... 200 OK\n",
            "Length: 13832437 (13M) [application/octet-stream]\n",
            "Saving to: ‘ngrok-stable-linux-amd64.zip’\n",
            "\n",
            "ngrok-stable-linux- 100%[===================>]  13.19M  5.56MB/s    in 2.4s    \n",
            "\n",
            "2021-09-20 13:10:18 (5.56 MB/s) - ‘ngrok-stable-linux-amd64.zip’ saved [13832437/13832437]\n",
            "\n"
          ]
        }
      ]
    },
    {
      "cell_type": "code",
      "metadata": {
        "colab": {
          "base_uri": "https://localhost:8080/"
        },
        "id": "6679q_6fwsJH",
        "outputId": "62ab811a-2a6a-43bd-82cf-6e357fff6982"
      },
      "source": [
        "!unzip ngrok-stable-linux-amd64.zip"
      ],
      "execution_count": 6,
      "outputs": [
        {
          "output_type": "stream",
          "name": "stdout",
          "text": [
            "Archive:  ngrok-stable-linux-amd64.zip\n",
            "  inflating: ngrok                   \n"
          ]
        }
      ]
    },
    {
      "cell_type": "markdown",
      "metadata": {
        "id": "BZr6fBuDAPb-"
      },
      "source": [
        "### 1.3. Chargement des packages et de l'application streamlit"
      ]
    },
    {
      "cell_type": "markdown",
      "metadata": {
        "id": "86JqdYaZ94Vu"
      },
      "source": [
        "L'application Streamlit est déjà déployée dans le repository Github associé au projet. Les instructions ci-dessous vont télédécharger les sources de l'application d'une part, et des packages nécessaires d'autre part."
      ]
    },
    {
      "cell_type": "code",
      "metadata": {
        "colab": {
          "base_uri": "https://localhost:8080/"
        },
        "id": "PI2yZH-gASpp",
        "outputId": "a6f65d59-3222-4119-bd5a-3246ad6cb441"
      },
      "source": [
        "# Création de répertoires pour stocker le Git, les librairies et checkpoints\n",
        "!mkdir MPyRTemp -p\n",
        "!mkdir streamlit -p\n",
        "\n",
        "# Copie des sources des librairies projet depuis le Github\n",
        "!git clone https://github.com/Letsgetloud/Mushroom_Py-cture_Recognition/ ./MPyRTemp --dissociate > /dev/null\n",
        "\n",
        "# Répartition des différentes ressources dans les répertoires\n",
        "!cp -R ./MPyRTemp/streamlit/* ./streamlit\n",
        "   \n",
        "\n",
        "# Suppression de la copie du repository source\n",
        "!rm MPyRTemp -r"
      ],
      "execution_count": 7,
      "outputs": [
        {
          "output_type": "stream",
          "name": "stdout",
          "text": [
            "Cloning into './MPyRTemp'...\n",
            "remote: Enumerating objects: 207, done.\u001b[K\n",
            "remote: Counting objects: 100% (207/207), done.\u001b[K\n",
            "remote: Compressing objects: 100% (201/201), done.\u001b[K\n",
            "remote: Total 207 (delta 92), reused 0 (delta 0), pack-reused 0\u001b[K\n",
            "Receiving objects: 100% (207/207), 369.66 KiB | 5.87 MiB/s, done.\n",
            "Resolving deltas: 100% (92/92), done.\n"
          ]
        }
      ]
    },
    {
      "cell_type": "markdown",
      "metadata": {
        "id": "14fstGETAZT9"
      },
      "source": [
        "### 1.4. Installation des dépendances"
      ]
    },
    {
      "cell_type": "markdown",
      "metadata": {
        "id": "t_wTJJC5-T1J"
      },
      "source": [
        "Quelques librairies sont nécessaires au bon fonctionnement de l'application. Nous les installons toutes depuis le fichier de configuration rattaché a l’application.  Il est possible qu'une erreur de version apparaisse, sans conséquence pour la bonne exécution de l'application."
      ]
    },
    {
      "cell_type": "code",
      "metadata": {
        "id": "_V0R4yqvmiYS",
        "outputId": "263175ae-6a33-49b1-bbb1-10a99d910517",
        "colab": {
          "base_uri": "https://localhost:8080/"
        }
      },
      "source": [
        "\n",
        "!pip install -r /content/streamlit/requirements.txt  > /dev/null"
      ],
      "execution_count": 8,
      "outputs": [
        {
          "output_type": "stream",
          "name": "stdout",
          "text": [
            "\u001b[31mERROR: Could not open requirements file: [Errno 2] No such file or directory: '/content/drive/MyDrive/streamlit/requirements.txt'\u001b[0m\n"
          ]
        }
      ]
    },
    {
      "cell_type": "markdown",
      "metadata": {
        "id": "encqGJ4u0FYG"
      },
      "source": [
        "## **2. Lancement de l'application**"
      ]
    },
    {
      "cell_type": "markdown",
      "metadata": {
        "id": "JExKU0Gvn72U"
      },
      "source": [
        "Les installations étant terminées, l'application peut être lancée. Nous allons pour cela initier un tunnel ngrok.\n",
        "\n",
        "Au préalable, il convient de générer un fichier de configuration comportant un token de connexion. Rendez-vous sur le site ngrok.com, inscrivez-vous si ce n'est déjà fait et récupérez votre token (présent sur la page de votre profil). Remplacer ensuite la ligne ci-dessous par votre propre token avant de l'exécuter.\n"
      ]
    },
    {
      "cell_type": "code",
      "metadata": {
        "colab": {
          "base_uri": "https://localhost:8080/"
        },
        "id": "vnkvhNBp9jf1",
        "outputId": "d176620d-3275-4ae8-e9af-3a7acc23d817"
      },
      "source": [
        "!ngrok authtoken 1xuLUeYQUBq58sA61Zb9ekFPVSU_GcaPTxM1MAWiDczNvtCy"
      ],
      "execution_count": 9,
      "outputs": [
        {
          "output_type": "stream",
          "name": "stdout",
          "text": [
            "Authtoken saved to configuration file: /root/.ngrok2/ngrok.yml\n"
          ]
        }
      ]
    },
    {
      "cell_type": "markdown",
      "metadata": {
        "id": "MNHYv8wj1Zzr"
      },
      "source": [
        "Lancez les 3 cellules ci-dessous, un nouveau tunnel sera alors généré. Pour visualiser le rendu de l'application il faut se rendre sur le lien indiqué par la seconde cellule (de type https://xxxxxxx.ngrok.io)"
      ]
    },
    {
      "cell_type": "code",
      "metadata": {
        "id": "qGCM2OjvxNit"
      },
      "source": [
        "get_ipython().system_raw('./ngrok http 8501 &')"
      ],
      "execution_count": 20,
      "outputs": []
    },
    {
      "cell_type": "code",
      "metadata": {
        "colab": {
          "base_uri": "https://localhost:8080/"
        },
        "id": "bxwv00hdxedU",
        "outputId": "bbbf33fc-0c23-468d-fd05-f2bcb22bb669"
      },
      "source": [
        "!curl -s http://localhost:4040/api/tunnels | python3 -c \\\n",
        "    'import sys, json; print(\"URL pour visualiser l application : \" +json.load(sys.stdin)[\"tunnels\"][0][\"public_url\"])'"
      ],
      "execution_count": 21,
      "outputs": [
        {
          "output_type": "stream",
          "name": "stdout",
          "text": [
            "URL pour visualiser l application : http://9e1e-34-136-252-152.ngrok.io\n"
          ]
        }
      ]
    },
    {
      "cell_type": "code",
      "metadata": {
        "colab": {
          "base_uri": "https://localhost:8080/"
        },
        "id": "T1bWdX1Y_n9j",
        "outputId": "55bc1b8c-3d3a-4c9e-e0ef-7c6f563cf073"
      },
      "source": [
        "!streamlit run /content/streamlit/app.py"
      ],
      "execution_count": 22,
      "outputs": [
        {
          "output_type": "stream",
          "name": "stdout",
          "text": [
            "\u001b[0m\n",
            "\u001b[34m\u001b[1m  You can now view your Streamlit app in your browser.\u001b[0m\n",
            "\u001b[0m\n",
            "\u001b[34m  Network URL: \u001b[0m\u001b[1mhttp://172.28.0.2:8501\u001b[0m\n",
            "\u001b[34m  External URL: \u001b[0m\u001b[1mhttp://34.136.252.152:8501\u001b[0m\n",
            "\u001b[0m\n",
            "Loading the Model: Mushroom Detector ...\n",
            "Downloading...\n",
            "From: https://drive.google.com/uc?id=1ZwAKT0Pt_jIvxkJZccmJ_wq45DX3jwyz\n",
            "To: /content/Mushroom Detector.Prod\n",
            "16.9MB [00:00, 186MB/s]\n",
            "2021-09-20 13:14:28.709245: E tensorflow/stream_executor/cuda/cuda_driver.cc:271] failed call to cuInit: CUDA_ERROR_NO_DEVICE: no CUDA-capable device is detected\n",
            "2021-09-20 13:14:28.709315: I tensorflow/stream_executor/cuda/cuda_diagnostics.cc:156] kernel driver does not appear to be running on this host (3a964c2ae604): /proc/driver/nvidia/version does not exist\n",
            "Loading done successfully\n",
            "2021-09-20 13:14:30.683478: I tensorflow/compiler/mlir/mlir_graph_optimization_pass.cc:185] None of the MLIR Optimization Passes are enabled (registered 2)\n",
            "1/1 [==============================] - 2s 2s/step\n",
            "model[ Mushroom detector ] predictions: [0.9954175  0.00458249]\n",
            "Loading the Model: EfficientNetB0 ...\n",
            "Downloading...\n",
            "From: https://drive.google.com/uc?id=1O3kkhJ78ZCKLr0cPnDOOIfBAwxzBJTqB\n",
            "To: /content/EfficientNetB0.Prod\n",
            "26.4MB [00:00, 154MB/s]\n",
            "Loading done successfully\n",
            "1/1 [==============================] - 2s 2s/step\n",
            "Loading the Model: EfficientNetB1 ...\n",
            "Downloading...\n",
            "From: https://drive.google.com/uc?id=1L4jFY0-jQVowsexZJPgdnQ3GARa8omxT\n",
            "To: /content/EfficientNetB1.Prod\n",
            "28.0MB [00:00, 51.6MB/s]\n",
            "Loading done successfully\n",
            "1/1 [==============================] - 2s 2s/step\n",
            "Loading the Model: EfficientNetB2 ...\n",
            "Downloading...\n",
            "From: https://drive.google.com/uc?id=1bFt0rSmhtQYh-93sCumTTeDfaor3oG5w\n",
            "To: /content/EfficientNetB2.Prod\n",
            "125MB [00:01, 104MB/s]\n",
            "Loading done successfully\n",
            "1/1 [==============================] - 2s 2s/step\n",
            "Loading the Model: EfficientNetB3 ...\n",
            "Downloading...\n",
            "From: https://drive.google.com/uc?id=15_GWH-qBQWLJjlkvbYvmzck9oFlMgbZz\n",
            "To: /content/EfficientNetB3.Prod\n",
            "60.1MB [00:01, 42.7MB/s]\n",
            "Loading done successfully\n",
            "2021-09-20 13:15:15.865 5 out of the last 5 calls to <function Model.make_predict_function.<locals>.predict_function at 0x7f556238e5f0> triggered tf.function retracing. Tracing is expensive and the excessive number of tracings could be due to (1) creating @tf.function repeatedly in a loop, (2) passing tensors with different shapes, (3) passing Python objects instead of tensors. For (1), please define your @tf.function outside of the loop. For (2), @tf.function has experimental_relax_shapes=True option that relaxes argument shapes that can avoid unnecessary retracing. For (3), please refer to https://www.tensorflow.org/guide/function#controlling_retracing and https://www.tensorflow.org/api_docs/python/tf/function for  more details.\n",
            "1/1 [==============================] - 2s 2s/step\n",
            "Loading the Model: EfficientNetB4 ...\n",
            "Downloading...\n",
            "From: https://drive.google.com/uc?id=1oZTrW-iN62AlBKZ3uSzRxPlzeq43wQbY\n",
            "To: /content/EfficientNetB4.Prod\n",
            "89.5MB [00:00, 202MB/s]\n",
            "Loading done successfully\n",
            "2021-09-20 13:15:28.432 6 out of the last 6 calls to <function Model.make_predict_function.<locals>.predict_function at 0x7f5563d6f680> triggered tf.function retracing. Tracing is expensive and the excessive number of tracings could be due to (1) creating @tf.function repeatedly in a loop, (2) passing tensors with different shapes, (3) passing Python objects instead of tensors. For (1), please define your @tf.function outside of the loop. For (2), @tf.function has experimental_relax_shapes=True option that relaxes argument shapes that can avoid unnecessary retracing. For (3), please refer to https://www.tensorflow.org/guide/function#controlling_retracing and https://www.tensorflow.org/api_docs/python/tf/function for  more details.\n",
            "1/1 [==============================] - 3s 3s/step\n",
            "Loading the Model: EfficientNetB5 ...\n",
            "Downloading...\n",
            "From: https://drive.google.com/uc?id=1Q_WBz9jJbVTuhy8Xhk5khOYRwKte73am\n",
            "To: /content/EfficientNetB5.Prod\n",
            "135MB [00:00, 154MB/s]\n",
            "Loading done successfully\n",
            "1/1 [==============================] - 4s 4s/step\n",
            "Loading the Model: EfficientNetB6 ...\n",
            "Downloading...\n",
            "From: https://drive.google.com/uc?id=1uf8E9lAfV3S7xNKdBsCa2EUzOCg97TFX\n",
            "To: /content/EfficientNetB6.Prod\n",
            "186MB [00:01, 102MB/s]\n",
            "Loading done successfully\n",
            "1/1 [==============================] - 5s 5s/step\n",
            "Loading the Model: EfficientNetB7 ...\n",
            "Downloading...\n",
            "From: https://drive.google.com/uc?id=1opL4PZz1nKVW6qVjxJhNhHpul1XGpwil\n",
            "To: /content/EfficientNetB7.Prod\n",
            "281MB [00:02, 104MB/s]\n",
            "Loading done successfully\n",
            "1/1 [==============================] - 7s 7s/step\n",
            "Loading the EnsembleClassifier: Mushroom Classifier ...\n",
            "Downloading...\n",
            "From: https://drive.google.com/uc?id=1b3MZHzPkJHgrH79r5ntdZ1OKvDchT9Zt\n",
            "To: /content/Mushroom Classifier.Prod\n",
            "100% 9.97k/9.97k [00:00<00:00, 10.4MB/s]\n",
            "Loading done successfully\n",
            "modelProbas.shape:  (1, 10)\n",
            "Loading the Model: EfficientNetB0 ...\n",
            "Downloading...\n",
            "From: https://drive.google.com/uc?id=1O3kkhJ78ZCKLr0cPnDOOIfBAwxzBJTqB\n",
            "To: /content/EfficientNetB0.Prod\n",
            "26.4MB [00:00, 190MB/s]\n",
            "Loading done successfully\n",
            "Loading the Model: EfficientNetB1 ...\n",
            "Downloading...\n",
            "From: https://drive.google.com/uc?id=1L4jFY0-jQVowsexZJPgdnQ3GARa8omxT\n",
            "To: /content/EfficientNetB1.Prod\n",
            "28.0MB [00:00, 213MB/s]\n",
            "Loading done successfully\n",
            "Loading the Model: EfficientNetB2 ...\n",
            "Downloading...\n",
            "From: https://drive.google.com/uc?id=1bFt0rSmhtQYh-93sCumTTeDfaor3oG5w\n",
            "To: /content/EfficientNetB2.Prod\n",
            "125MB [00:00, 223MB/s]\n",
            "Loading done successfully\n",
            "Loading the Model: EfficientNetB3 ...\n",
            "Downloading...\n",
            "From: https://drive.google.com/uc?id=15_GWH-qBQWLJjlkvbYvmzck9oFlMgbZz\n",
            "To: /content/EfficientNetB3.Prod\n",
            "60.1MB [00:02, 26.0MB/s]\n",
            "Loading done successfully\n",
            "Loading the Model: EfficientNetB4 ...\n",
            "Downloading...\n",
            "From: https://drive.google.com/uc?id=1oZTrW-iN62AlBKZ3uSzRxPlzeq43wQbY\n",
            "To: /content/EfficientNetB4.Prod\n",
            "89.5MB [00:00, 105MB/s]\n",
            "Loading done successfully\n",
            "Loading the Model: EfficientNetB5 ...\n",
            "Downloading...\n",
            "From: https://drive.google.com/uc?id=1Q_WBz9jJbVTuhy8Xhk5khOYRwKte73am\n",
            "To: /content/EfficientNetB5.Prod\n",
            "135MB [00:01, 132MB/s]\n",
            "Loading done successfully\n",
            "Loading the Model: EfficientNetB6 ...\n",
            "Downloading...\n",
            "From: https://drive.google.com/uc?id=1uf8E9lAfV3S7xNKdBsCa2EUzOCg97TFX\n",
            "To: /content/EfficientNetB6.Prod\n",
            "186MB [00:01, 137MB/s]\n",
            "Loading done successfully\n",
            "Loading the Model: EfficientNetB7 ...\n",
            "Downloading...\n",
            "From: https://drive.google.com/uc?id=1opL4PZz1nKVW6qVjxJhNhHpul1XGpwil\n",
            "To: /content/EfficientNetB7.Prod\n",
            "281MB [00:02, 95.9MB/s]\n",
            "Loading done successfully\n",
            "Loading the Model: Mushroom Detector ...\n",
            "Downloading...\n",
            "From: https://drive.google.com/uc?id=1ZwAKT0Pt_jIvxkJZccmJ_wq45DX3jwyz\n",
            "To: /content/Mushroom Detector.Prod\n",
            "16.9MB [00:00, 159MB/s]\n",
            "Loading done successfully\n",
            "1/1 [==============================] - 2s 2s/step\n",
            "model[ Mushroom detector ] predictions: [0.9954175  0.00458249]\n",
            "1/1 [==============================] - 2s 2s/step\n",
            "1/1 [==============================] - 2s 2s/step\n",
            "1/1 [==============================] - 2s 2s/step\n",
            "1/1 [==============================] - 3s 3s/step\n",
            "1/1 [==============================] - 3s 3s/step\n",
            "1/1 [==============================] - 4s 4s/step\n",
            "1/1 [==============================] - 6s 6s/step\n",
            "1/1 [==============================] - 8s 8s/step\n",
            "Loading the EnsembleClassifier: Mushroom Classifier ...\n",
            "Downloading...\n",
            "From: https://drive.google.com/uc?id=1b3MZHzPkJHgrH79r5ntdZ1OKvDchT9Zt\n",
            "To: /content/Mushroom Classifier.Prod\n",
            "100% 9.97k/9.97k [00:00<00:00, 20.1MB/s]\n",
            "Loading done successfully\n",
            "modelProbas.shape:  (1, 10)\n",
            "Loading the Model: EfficientNetB0 ...\n",
            "Downloading...\n",
            "From: https://drive.google.com/uc?id=1O3kkhJ78ZCKLr0cPnDOOIfBAwxzBJTqB\n",
            "To: /content/EfficientNetB0.Prod\n",
            "26.4MB [00:00, 152MB/s] \n",
            "Loading done successfully\n",
            "Loading the Model: EfficientNetB1 ...\n",
            "Downloading...\n",
            "From: https://drive.google.com/uc?id=1L4jFY0-jQVowsexZJPgdnQ3GARa8omxT\n",
            "To: /content/EfficientNetB1.Prod\n",
            "28.0MB [00:00, 51.3MB/s]\n",
            "Loading done successfully\n",
            "Loading the Model: EfficientNetB2 ...\n",
            "Downloading...\n",
            "From: https://drive.google.com/uc?id=1bFt0rSmhtQYh-93sCumTTeDfaor3oG5w\n",
            "To: /content/EfficientNetB2.Prod\n",
            "125MB [00:00, 149MB/s]\n",
            "Loading done successfully\n",
            "Loading the Model: EfficientNetB3 ...\n",
            "Downloading...\n",
            "From: https://drive.google.com/uc?id=15_GWH-qBQWLJjlkvbYvmzck9oFlMgbZz\n",
            "To: /content/EfficientNetB3.Prod\n",
            "60.1MB [00:01, 54.7MB/s]\n",
            "Loading done successfully\n",
            "Loading the Model: EfficientNetB4 ...\n",
            "Downloading...\n",
            "From: https://drive.google.com/uc?id=1oZTrW-iN62AlBKZ3uSzRxPlzeq43wQbY\n",
            "To: /content/EfficientNetB4.Prod\n",
            "89.5MB [00:00, 120MB/s]\n",
            "Loading done successfully\n",
            "Loading the Model: EfficientNetB5 ...\n",
            "Downloading...\n",
            "From: https://drive.google.com/uc?id=1Q_WBz9jJbVTuhy8Xhk5khOYRwKte73am\n",
            "To: /content/EfficientNetB5.Prod\n",
            "135MB [00:00, 141MB/s]\n",
            "Loading done successfully\n",
            "Loading the Model: EfficientNetB6 ...\n",
            "Downloading...\n",
            "From: https://drive.google.com/uc?id=1uf8E9lAfV3S7xNKdBsCa2EUzOCg97TFX\n",
            "To: /content/EfficientNetB6.Prod\n",
            "186MB [00:01, 107MB/s]\n",
            "Loading done successfully\n",
            "Loading the Model: EfficientNetB7 ...\n",
            "Downloading...\n",
            "From: https://drive.google.com/uc?id=1opL4PZz1nKVW6qVjxJhNhHpul1XGpwil\n",
            "To: /content/EfficientNetB7.Prod\n",
            "281MB [00:01, 182MB/s]\n",
            "Loading done successfully\n",
            "Loading the Model: Mushroom Detector ...\n",
            "Downloading...\n",
            "From: https://drive.google.com/uc?id=1ZwAKT0Pt_jIvxkJZccmJ_wq45DX3jwyz\n",
            "To: /content/Mushroom Detector.Prod\n",
            "16.9MB [00:00, 169MB/s]\n",
            "Loading done successfully\n",
            "1/1 [==============================] - 2s 2s/step\n",
            "model[ Mushroom detector ] predictions: [9.9998379e-01 1.6224953e-05]\n",
            "1/1 [==============================] - 2s 2s/step\n",
            "1/1 [==============================] - 2s 2s/step\n",
            "1/1 [==============================] - 2s 2s/step\n",
            "1/1 [==============================] - 3s 3s/step\n",
            "1/1 [==============================] - 3s 3s/step\n",
            "1/1 [==============================] - 4s 4s/step\n",
            "1/1 [==============================] - 6s 6s/step\n",
            "1/1 [==============================] - 7s 7s/step\n",
            "Loading the EnsembleClassifier: Mushroom Classifier ...\n",
            "Downloading...\n",
            "From: https://drive.google.com/uc?id=1b3MZHzPkJHgrH79r5ntdZ1OKvDchT9Zt\n",
            "To: /content/Mushroom Classifier.Prod\n",
            "100% 9.97k/9.97k [00:00<00:00, 22.5MB/s]\n",
            "Loading done successfully\n",
            "modelProbas.shape:  (1, 10)\n",
            "Loading the Model: Mushroom Detector ...\n",
            "Downloading...\n",
            "From: https://drive.google.com/uc?id=1ZwAKT0Pt_jIvxkJZccmJ_wq45DX3jwyz\n",
            "To: /content/Mushroom Detector.Prod\n",
            "16.9MB [00:00, 145MB/s]\n",
            "Loading done successfully\n",
            "1/1 [==============================] - 2s 2s/step\n",
            "model[ Mushroom detector ] predictions: [9.9998379e-01 1.6224953e-05]\n",
            "Loading the Model: EfficientNetB0 ...\n",
            "Downloading...\n",
            "From: https://drive.google.com/uc?id=1O3kkhJ78ZCKLr0cPnDOOIfBAwxzBJTqB\n",
            "To: /content/EfficientNetB0.Prod\n",
            "26.4MB [00:00, 125MB/s] \n",
            "Loading done successfully\n",
            "1/1 [==============================] - 2s 2s/step\n",
            "Loading the Model: EfficientNetB1 ...\n",
            "Downloading...\n",
            "From: https://drive.google.com/uc?id=1L4jFY0-jQVowsexZJPgdnQ3GARa8omxT\n",
            "To: /content/EfficientNetB1.Prod\n",
            "28.0MB [00:00, 30.0MB/s]\n",
            "Loading done successfully\n",
            "1/1 [==============================] - 2s 2s/step\n",
            "Loading the Model: EfficientNetB2 ...\n",
            "Downloading...\n",
            "From: https://drive.google.com/uc?id=1bFt0rSmhtQYh-93sCumTTeDfaor3oG5w\n",
            "To: /content/EfficientNetB2.Prod\n",
            "125MB [00:01, 110MB/s]\n",
            "Loading done successfully\n",
            "1/1 [==============================] - 2s 2s/step\n",
            "Loading the Model: EfficientNetB3 ...\n",
            "Downloading...\n",
            "From: https://drive.google.com/uc?id=15_GWH-qBQWLJjlkvbYvmzck9oFlMgbZz\n",
            "To: /content/EfficientNetB3.Prod\n",
            "60.1MB [00:00, 118MB/s]\n",
            "Loading done successfully\n",
            "1/1 [==============================] - 3s 3s/step\n",
            "Loading the Model: EfficientNetB4 ...\n",
            "Downloading...\n",
            "From: https://drive.google.com/uc?id=1oZTrW-iN62AlBKZ3uSzRxPlzeq43wQbY\n",
            "To: /content/EfficientNetB4.Prod\n",
            "89.5MB [00:00, 197MB/s]\n",
            "Loading done successfully\n",
            "1/1 [==============================] - 3s 3s/step\n",
            "Loading the Model: EfficientNetB5 ...\n",
            "Downloading...\n",
            "From: https://drive.google.com/uc?id=1Q_WBz9jJbVTuhy8Xhk5khOYRwKte73am\n",
            "To: /content/EfficientNetB5.Prod\n",
            "135MB [00:00, 137MB/s]\n",
            "Loading done successfully\n",
            "1/1 [==============================] - 4s 4s/step\n",
            "Loading the Model: EfficientNetB6 ...\n",
            "Downloading...\n",
            "From: https://drive.google.com/uc?id=1uf8E9lAfV3S7xNKdBsCa2EUzOCg97TFX\n",
            "To: /content/EfficientNetB6.Prod\n",
            "186MB [00:01, 110MB/s]\n",
            "Loading done successfully\n",
            "1/1 [==============================] - 5s 5s/step\n",
            "Loading the Model: EfficientNetB7 ...\n",
            "Downloading...\n",
            "From: https://drive.google.com/uc?id=1opL4PZz1nKVW6qVjxJhNhHpul1XGpwil\n",
            "To: /content/EfficientNetB7.Prod\n",
            "281MB [00:02, 94.3MB/s]\n",
            "Loading done successfully\n",
            "1/1 [==============================] - 8s 8s/step\n",
            "Loading the EnsembleClassifier: Mushroom Classifier ...\n",
            "Downloading...\n",
            "From: https://drive.google.com/uc?id=1b3MZHzPkJHgrH79r5ntdZ1OKvDchT9Zt\n",
            "To: /content/Mushroom Classifier.Prod\n",
            "100% 9.97k/9.97k [00:00<00:00, 20.5MB/s]\n",
            "Loading done successfully\n",
            "modelProbas.shape:  (1, 10)\n",
            "Loading the Model: Mushroom Detector ...\n",
            "Downloading...\n",
            "From: https://drive.google.com/uc?id=1ZwAKT0Pt_jIvxkJZccmJ_wq45DX3jwyz\n",
            "To: /content/Mushroom Detector.Prod\n",
            "16.9MB [00:00, 170MB/s]\n",
            "Loading done successfully\n",
            "1/1 [==============================] - 2s 2s/step\n",
            "model[ Mushroom detector ] predictions: [9.9984634e-01 1.5360047e-04]\n",
            "Loading the Model: EfficientNetB0 ...\n",
            "Downloading...\n",
            "From: https://drive.google.com/uc?id=1O3kkhJ78ZCKLr0cPnDOOIfBAwxzBJTqB\n",
            "To: /content/EfficientNetB0.Prod\n",
            "26.4MB [00:00, 165MB/s] \n",
            "Loading done successfully\n",
            "1/1 [==============================] - 2s 2s/step\n",
            "Loading the Model: EfficientNetB1 ...\n",
            "Downloading...\n",
            "From: https://drive.google.com/uc?id=1L4jFY0-jQVowsexZJPgdnQ3GARa8omxT\n",
            "To: /content/EfficientNetB1.Prod\n",
            "28.0MB [00:00, 33.2MB/s]\n",
            "Loading done successfully\n",
            "1/1 [==============================] - 2s 2s/step\n",
            "Loading the Model: EfficientNetB2 ...\n",
            "Downloading...\n",
            "From: https://drive.google.com/uc?id=1bFt0rSmhtQYh-93sCumTTeDfaor3oG5w\n",
            "To: /content/EfficientNetB2.Prod\n",
            "125MB [00:00, 148MB/s]\n",
            "Loading done successfully\n",
            "1/1 [==============================] - 2s 2s/step\n",
            "Loading the Model: EfficientNetB3 ...\n",
            "Downloading...\n",
            "From: https://drive.google.com/uc?id=15_GWH-qBQWLJjlkvbYvmzck9oFlMgbZz\n",
            "To: /content/EfficientNetB3.Prod\n",
            "60.1MB [00:01, 37.2MB/s]\n",
            "Loading done successfully\n",
            "1/1 [==============================] - 3s 3s/step\n",
            "Loading the Model: EfficientNetB4 ...\n",
            "Downloading...\n",
            "From: https://drive.google.com/uc?id=1oZTrW-iN62AlBKZ3uSzRxPlzeq43wQbY\n",
            "To: /content/EfficientNetB4.Prod\n",
            "89.5MB [00:00, 270MB/s]\n",
            "Loading done successfully\n",
            "1/1 [==============================] - 3s 3s/step\n",
            "Loading the Model: EfficientNetB5 ...\n",
            "Downloading...\n",
            "From: https://drive.google.com/uc?id=1Q_WBz9jJbVTuhy8Xhk5khOYRwKte73am\n",
            "To: /content/EfficientNetB5.Prod\n",
            "135MB [00:00, 193MB/s]\n",
            "Loading done successfully\n",
            "1/1 [==============================] - 4s 4s/step\n",
            "Loading the Model: EfficientNetB6 ...\n",
            "Downloading...\n",
            "From: https://drive.google.com/uc?id=1uf8E9lAfV3S7xNKdBsCa2EUzOCg97TFX\n",
            "To: /content/EfficientNetB6.Prod\n",
            "186MB [00:00, 193MB/s]\n",
            "Loading done successfully\n",
            "1/1 [==============================] - 5s 5s/step\n",
            "Loading the Model: EfficientNetB7 ...\n",
            "Downloading...\n",
            "From: https://drive.google.com/uc?id=1opL4PZz1nKVW6qVjxJhNhHpul1XGpwil\n",
            "To: /content/EfficientNetB7.Prod\n",
            "281MB [00:02, 101MB/s]\n",
            "Loading done successfully\n",
            "1/1 [==============================] - 8s 8s/step\n",
            "Loading the EnsembleClassifier: Mushroom Classifier ...\n",
            "Downloading...\n",
            "From: https://drive.google.com/uc?id=1b3MZHzPkJHgrH79r5ntdZ1OKvDchT9Zt\n",
            "To: /content/Mushroom Classifier.Prod\n",
            "100% 9.97k/9.97k [00:00<00:00, 22.7MB/s]\n",
            "Loading done successfully\n",
            "modelProbas.shape:  (1, 10)\n",
            "2021-09-20 15:15:39.099 Traceback (most recent call last):\n",
            "  File \"/usr/local/lib/python3.7/dist-packages/streamlit/script_runner.py\", line 354, in _run_script\n",
            "    exec(code, module.__dict__)\n",
            "  File \"/content/drive/MyDrive/streamlit/app.py\", line 56, in <module>\n",
            "    page.app()\n",
            "  File \"/content/drive/MyDrive/streamlit/single_image_recognition.py\", line 25, in app\n",
            "    imageState.setFromRegistry()\n",
            "  File \"/content/drive/MyDrive/streamlit/session_state/base_state.py\", line 88, in setFromRegistry\n",
            "    CObjectState.set(self, ss.get(self.key))\n",
            "  File \"/content/drive/MyDrive/streamlit/session_state/base_state.py\", line 76, in set\n",
            "    raise ValueError('The parameter <state> does not correspond to a valid state for this class instance.')\n",
            "ValueError: The parameter <state> does not correspond to a valid state for this class instance.\n",
            "\n",
            "2021-09-20 15:36:17.730 InMemoryFileManager: Missing file 3e36ea6df2d7f3b0915061a7243053add6a497117fc9c49e74c353f0.png\n",
            "2021-09-20 15:44:06.377 InMemoryFileManager: Missing file 3e36ea6df2d7f3b0915061a7243053add6a497117fc9c49e74c353f0.png\n",
            "2021-09-20 16:08:56.881 InMemoryFileManager: Missing file 3e36ea6df2d7f3b0915061a7243053add6a497117fc9c49e74c353f0.png\n",
            "\u001b[34m  Stopping...\u001b[0m\n",
            "\u001b[34m  Stopping...\u001b[0m\n"
          ]
        }
      ]
    }
  ]
}